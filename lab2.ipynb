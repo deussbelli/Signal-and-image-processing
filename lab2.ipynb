{
 "cells": [
  {
   "cell_type": "code",
   "execution_count": 1,
   "metadata": {},
   "outputs": [],
   "source": [
    "import cv2\n",
    "import numpy as np\n",
    "import matplotlib.pyplot as plt\n",
    "\n",
    "# Функція для завантаження та відображення зображення\n",
    "def load_and_display_image(image_path):\n",
    "    image = cv2.imread(image_path, cv2.IMREAD_COLOR)\n",
    "    image = cv2.cvtColor(image, cv2.COLOR_BGR2RGB)  # Конвертація в RGB для відображення\n",
    "    plt.figure(figsize=(8, 6))\n",
    "    plt.imshow(image)\n",
    "    plt.title(\"Оригінальне зображення\")\n",
    "    plt.axis('off')\n",
    "    plt.show()\n",
    "    return image"
   ]
  },
  {
   "cell_type": "code",
   "execution_count": 2,
   "metadata": {},
   "outputs": [],
   "source": [
    "\n",
    "# Функція для побудови гістограми\n",
    "def plot_histogram(image, title=\"Гістограма\"):\n",
    "    plt.figure(figsize=(10, 5))\n",
    "    for i, color in enumerate(['r', 'g', 'b']):\n",
    "        hist = cv2.calcHist([image], [i], None, [256], [0, 256])\n",
    "        plt.plot(hist, color=color)\n",
    "    plt.title(title)\n",
    "    plt.xlabel(\"Інтенсивність\")\n",
    "    plt.ylabel(\"Кількість пікселів\")\n",
    "    plt.grid(True)\n",
    "    plt.show()"
   ]
  },
  {
   "cell_type": "code",
   "execution_count": 3,
   "metadata": {},
   "outputs": [],
   "source": [
    "\n",
    "\n",
    "# Функція для еквалізації гістограми\n",
    "def equalize_histogram(image):\n",
    "    img_yuv = cv2.cvtColor(image, cv2.COLOR_RGB2YUV)\n",
    "    img_yuv[:, :, 0] = cv2.equalizeHist(img_yuv[:, :, 0])\n",
    "    img_equalized = cv2.cvtColor(img_yuv, cv2.COLOR_YUV2RGB)\n",
    "    return img_equalized\n",
    "\n",
    "# Функція для застосування масочних фільтрів\n",
    "def apply_filter(image, kernel, title=\"Фільтроване зображення\"):\n",
    "    gray_image = cv2.cvtColor(image, cv2.COLOR_RGB2GRAY)\n",
    "    filtered_image = cv2.filter2D(gray_image, -1, kernel)\n",
    "    plt.figure(figsize=(8, 6))\n",
    "    plt.imshow(filtered_image, cmap='gray')\n",
    "    plt.title(title)\n",
    "    plt.axis('off')\n",
    "    plt.show()\n"
   ]
  },
  {
   "cell_type": "code",
   "execution_count": null,
   "metadata": {},
   "outputs": [
    {
     "ename": "error",
     "evalue": "OpenCV(4.10.0) D:\\a\\opencv-python\\opencv-python\\opencv\\modules\\imgproc\\src\\color.cpp:196: error: (-215:Assertion failed) !_src.empty() in function 'cv::cvtColor'\n",
     "output_type": "error",
     "traceback": [
      "\u001b[1;31m---------------------------------------------------------------------------\u001b[0m",
      "\u001b[1;31merror\u001b[0m                                     Traceback (most recent call last)",
      "Cell \u001b[1;32mIn[4], line 3\u001b[0m\n\u001b[0;32m      1\u001b[0m \u001b[38;5;66;03m# Основний блок виконання програми\u001b[39;00m\n\u001b[0;32m      2\u001b[0m image_path \u001b[38;5;241m=\u001b[39m \u001b[38;5;124mr\u001b[39m\u001b[38;5;124m'\u001b[39m\u001b[38;5;124mC:\u001b[39m\u001b[38;5;130;01m\\\\\u001b[39;00m\u001b[38;5;124mUsers\u001b[39m\u001b[38;5;130;01m\\\\\u001b[39;00m\u001b[38;5;124mrrriv\u001b[39m\u001b[38;5;130;01m\\\\\u001b[39;00m\u001b[38;5;124mOneDrive\u001b[39m\u001b[38;5;130;01m\\\\\u001b[39;00m\u001b[38;5;124mРабочий стол\u001b[39m\u001b[38;5;130;01m\\\\\u001b[39;00m\u001b[38;5;124mОбробка сигналів та зображень\u001b[39m\u001b[38;5;130;01m\\\\\u001b[39;00m\u001b[38;5;124m24_bit.png\u001b[39m\u001b[38;5;124m'\u001b[39m \u001b[38;5;66;03m# Замініть шлях на шлях до вашого зображення\u001b[39;00m\n\u001b[1;32m----> 3\u001b[0m image \u001b[38;5;241m=\u001b[39m \u001b[43mload_and_display_image\u001b[49m\u001b[43m(\u001b[49m\u001b[43mimage_path\u001b[49m\u001b[43m)\u001b[49m\n\u001b[0;32m      5\u001b[0m \u001b[38;5;66;03m# Побудова гістограми оригінального зображення\u001b[39;00m\n\u001b[0;32m      6\u001b[0m plot_histogram(image, title\u001b[38;5;241m=\u001b[39m\u001b[38;5;124m\"\u001b[39m\u001b[38;5;124mГістограма оригінального зображення\u001b[39m\u001b[38;5;124m\"\u001b[39m)\n",
      "Cell \u001b[1;32mIn[1], line 8\u001b[0m, in \u001b[0;36mload_and_display_image\u001b[1;34m(image_path)\u001b[0m\n\u001b[0;32m      6\u001b[0m \u001b[38;5;28;01mdef\u001b[39;00m \u001b[38;5;21mload_and_display_image\u001b[39m(image_path):\n\u001b[0;32m      7\u001b[0m     image \u001b[38;5;241m=\u001b[39m cv2\u001b[38;5;241m.\u001b[39mimread(image_path, cv2\u001b[38;5;241m.\u001b[39mIMREAD_COLOR)\n\u001b[1;32m----> 8\u001b[0m     image \u001b[38;5;241m=\u001b[39m \u001b[43mcv2\u001b[49m\u001b[38;5;241;43m.\u001b[39;49m\u001b[43mcvtColor\u001b[49m\u001b[43m(\u001b[49m\u001b[43mimage\u001b[49m\u001b[43m,\u001b[49m\u001b[43m \u001b[49m\u001b[43mcv2\u001b[49m\u001b[38;5;241;43m.\u001b[39;49m\u001b[43mCOLOR_BGR2RGB\u001b[49m\u001b[43m)\u001b[49m  \u001b[38;5;66;03m# Конвертація в RGB для відображення\u001b[39;00m\n\u001b[0;32m      9\u001b[0m     plt\u001b[38;5;241m.\u001b[39mfigure(figsize\u001b[38;5;241m=\u001b[39m(\u001b[38;5;241m8\u001b[39m, \u001b[38;5;241m6\u001b[39m))\n\u001b[0;32m     10\u001b[0m     plt\u001b[38;5;241m.\u001b[39mimshow(image)\n",
      "\u001b[1;31merror\u001b[0m: OpenCV(4.10.0) D:\\a\\opencv-python\\opencv-python\\opencv\\modules\\imgproc\\src\\color.cpp:196: error: (-215:Assertion failed) !_src.empty() in function 'cv::cvtColor'\n"
     ]
    }
   ],
   "source": [
    "\n",
    "# Основний блок виконання програми\n",
    "image_path = 'C:/Users/rrriv/OneDrive/Рабочий стол/Обробка сигналів та зображень/24_bit.png'\n",
    "# Замініть шлях на шлях до вашого зображення\n",
    "image = load_and_display_image(image_path)\n",
    "\n",
    "# Побудова гістограми оригінального зображення\n",
    "plot_histogram(image, title=\"Гістограма оригінального зображення\")\n",
    "\n",
    "# Еквалізація гістограми\n",
    "equalized_image = equalize_histogram(image)\n",
    "\n",
    "# Порівняння зображення до і після еквалізації\n",
    "plt.figure(figsize=(15, 6))\n",
    "plt.subplot(1, 2, 1)\n",
    "plt.imshow(image)\n",
    "plt.title(\"Оригінальне зображення\")\n",
    "plt.axis('off')\n",
    "\n",
    "plt.subplot(1, 2, 2)\n",
    "plt.imshow(equalized_image)\n",
    "plt.title(\"Зображення після еквалізації гістограми\")\n",
    "plt.axis('off')\n",
    "plt.show()"
   ]
  },
  {
   "cell_type": "code",
   "execution_count": null,
   "metadata": {},
   "outputs": [],
   "source": [
    "\n",
    "\n",
    "# Побудова гістограми після еквалізації\n",
    "plot_histogram(equalized_image, title=\"Гістограма після еквалізації\")\n",
    "\n",
    "# Масочні фільтри\n",
    "roberts_kernel_x = np.array([[0, 1], [-1, 0]])\n",
    "roberts_kernel_y = np.array([[1, 0], [0, -1]])\n",
    "prewitt_kernel_x = np.array([[-1, 0, 1], [-1, 0, 1], [-1, 0, 1]])\n",
    "prewitt_kernel_y = np.array([[-1, -1, -1], [0, 0, 0], [1, 1, 1]])\n",
    "sobel_kernel_x = np.array([[-1, 0, 1], [-2, 0, 2], [-1, 0, 1]])\n",
    "sobel_kernel_y = np.array([[-1, -2, -1], [0, 0, 0], [1, 2, 1]])\n"
   ]
  },
  {
   "cell_type": "code",
   "execution_count": null,
   "metadata": {},
   "outputs": [],
   "source": [
    "\n",
    "# Застосування операторів\n",
    "apply_filter(image, roberts_kernel_x, title=\"Фільтр Робертса (по x)\")\n",
    "apply_filter(image, roberts_kernel_y, title=\"Фільтр Робертса (по y)\")\n",
    "apply_filter(image, prewitt_kernel_x, title=\"Фільтр Превіта (по x)\")\n",
    "apply_filter(image, prewitt_kernel_y, title=\"Фільтр Превіта (по y)\")\n",
    "apply_filter(image, sobel_kernel_x, title=\"Фільтр Собела (по x)\")\n",
    "apply_filter(image, sobel_kernel_y, title=\"Фільтр Собела (по y)\")\n"
   ]
  }
 ],
 "metadata": {
  "kernelspec": {
   "display_name": "Python 3",
   "language": "python",
   "name": "python3"
  },
  "language_info": {
   "codemirror_mode": {
    "name": "ipython",
    "version": 3
   },
   "file_extension": ".py",
   "mimetype": "text/x-python",
   "name": "python",
   "nbconvert_exporter": "python",
   "pygments_lexer": "ipython3",
   "version": "3.12.2"
  }
 },
 "nbformat": 4,
 "nbformat_minor": 2
}
